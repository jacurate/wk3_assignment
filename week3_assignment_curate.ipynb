{
 "cells": [
  {
   "cell_type": "markdown",
   "metadata": {},
   "source": [
    "## Week 3 Assignment\n",
    "### Jason Curate"
   ]
  },
  {
   "cell_type": "markdown",
   "metadata": {},
   "source": [
    "Suppose you have ridden a bicycle from New York City to Key West, Florida.  Your bicycle odometer shows the total miles, which you have dutifully logged at the end of each day with paper and pencil. Your first two entries might be 55 and 120, indicating that you rode your bike 55 miles on day 1 and 65 miles on day 2. Your task is to create a pandas Series object that holds the cumulative miles at the end of each day, then use your Python skills to show the total miles that you rode each day. Consider how you should best present this information in a Jupyter notebook.  "
   ]
  },
  {
   "cell_type": "markdown",
   "metadata": {},
   "source": [
    "==============================================================================================================================\n",
    "\n",
    "First I initialized numpy and pandas:"
   ]
  },
  {
   "cell_type": "code",
   "execution_count": 1,
   "metadata": {},
   "outputs": [],
   "source": [
    "import numpy as np\n",
    "import pandas as pd"
   ]
  },
  {
   "cell_type": "markdown",
   "metadata": {},
   "source": [
    "Then I setup some variables. The first is an array which contains any number of items:"
   ]
  },
  {
   "cell_type": "code",
   "execution_count": 2,
   "metadata": {},
   "outputs": [],
   "source": [
    "mileage = pd.Series(np.array([35,91,139,150,182,197]))"
   ]
  },
  {
   "cell_type": "markdown",
   "metadata": {},
   "source": [
    "Next, I created some counters, and a variable to see how many items are in the array:"
   ]
  },
  {
   "cell_type": "code",
   "execution_count": 3,
   "metadata": {},
   "outputs": [],
   "source": [
    "counter = 0\n",
    "countdays = mileage.count()\n",
    "day1 = mileage[0]\n",
    "dayincrement = 1"
   ]
  },
  {
   "cell_type": "markdown",
   "metadata": {},
   "source": [
    "Since the first day's miles are the same as the odometer, there's no need to act on it:"
   ]
  },
  {
   "cell_type": "code",
   "execution_count": 4,
   "metadata": {},
   "outputs": [
    {
     "name": "stdout",
     "output_type": "stream",
     "text": [
      "Day 1 = 35 miles\n"
     ]
    }
   ],
   "source": [
    "print(\"Day 1 =\", day1, \"miles\")"
   ]
  },
  {
   "cell_type": "markdown",
   "metadata": {},
   "source": [
    "Finally, I created a while loop to calculate and display the mileage for the remaining entries:"
   ]
  },
  {
   "cell_type": "code",
   "execution_count": 5,
   "metadata": {},
   "outputs": [
    {
     "name": "stdout",
     "output_type": "stream",
     "text": [
      "Day 2 = 56 miles\n",
      "Day 3 = 48 miles\n",
      "Day 4 = 11 miles\n",
      "Day 5 = 32 miles\n",
      "Day 6 = 15 miles\n"
     ]
    }
   ],
   "source": [
    "while dayincrement < countdays:\n",
    "    print(\"Day\", dayincrement + 1,\"=\", mileage[dayincrement] - mileage[counter], \"miles\")\n",
    "    counter = counter + 1\n",
    "    dayincrement = dayincrement + 1"
   ]
  }
 ],
 "metadata": {
  "kernelspec": {
   "display_name": "Python 3",
   "language": "python",
   "name": "python3"
  },
  "language_info": {
   "codemirror_mode": {
    "name": "ipython",
    "version": 3
   },
   "file_extension": ".py",
   "mimetype": "text/x-python",
   "name": "python",
   "nbconvert_exporter": "python",
   "pygments_lexer": "ipython3",
   "version": "3.7.3"
  }
 },
 "nbformat": 4,
 "nbformat_minor": 2
}
